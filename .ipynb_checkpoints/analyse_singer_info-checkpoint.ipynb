{
 "cells": [
  {
   "cell_type": "code",
   "execution_count": 1,
   "metadata": {
    "collapsed": false
   },
   "outputs": [],
   "source": [
    "# Prepare workspace\n",
    "import pandas as pd\n",
    "import numpy as np\n",
    "import json\n",
    "#import h5py\n",
    "import matplotlib\n",
    "import matplotlib.pyplot as plt\n",
    "import statsmodels.api as sm\n",
    "\n",
    "# fix seed for repeatability\n",
    "np.random.seed(1)"
   ]
  },
  {
   "cell_type": "code",
   "execution_count": 2,
   "metadata": {
    "collapsed": true
   },
   "outputs": [],
   "source": [
    "# Arguments\n",
    "class Args():\n",
    "    pass\n",
    "args = Args()\n",
    "\n",
    "args.input_actions = 'data/mars_tianchi_user_actions.csv'\n",
    "args.input_songs = 'data/mars_tianchi_songs.csv'\n",
    "args.output_h5 = 'data/mars_tianchi_group_actions.h5'\n",
    "args.output_json = 'data/mars_tianchi_group_actions.json'\n",
    "args.output_csv = 'data/mars_tianchi_group_actions.csv'\n",
    "args.val_frac = 0.1\n",
    "args.val_along_dimension = 'group' # possible values include: group, time\n",
    "args.test_frac = 0.1\n",
    "args.num_group = 1\n",
    "\n",
    "args.artist_daily_play = 'data/artist_daily_play.csv'\n",
    "args.artist_daily_download = 'data/artist_daily_download.csv'\n",
    "args.artist_daily_collect = 'data/artist_daily_collect.csv'"
   ]
  },
  {
   "cell_type": "code",
   "execution_count": 3,
   "metadata": {
    "collapsed": true
   },
   "outputs": [],
   "source": [
    "# Load song information\n",
    "song_info = pd.read_csv(args.input_songs,\n",
    "                        names=['song_id', 'artist_id', 'publish_time', 'song_init_plays', 'lang', 'gender'],)"
   ]
  },
  {
   "cell_type": "code",
   "execution_count": 4,
   "metadata": {
    "collapsed": false
   },
   "outputs": [],
   "source": [
    "#  Build conversion map\n",
    "# dates = np.sort(actions.Ds.unique())\n",
    "# T = dates.shape[0]\n",
    "# dates_to_idx = {dates[i] : i for i in xrange(dates.shape[0])}\n",
    "\n",
    "artists = song_info.artist_id.unique()\n",
    "D = artists.shape[0]\n",
    "artist_to_idx = {artists[i] : i for i in xrange(artists.shape[0])}          "
   ]
  },
  {
   "cell_type": "code",
   "execution_count": 5,
   "metadata": {
    "collapsed": false
   },
   "outputs": [],
   "source": [
    "# Load artist daily information from CSV files\n",
    "artist_daily_play = pd.read_csv(args.artist_daily_play).set_index('Ds')\n",
    "artist_daily_download = pd.read_csv(args.artist_daily_download).set_index('Ds')\n",
    "artist_daily_collect = pd.read_csv(args.artist_daily_collect).set_index('Ds')"
   ]
  },
  {
   "cell_type": "code",
   "execution_count": 6,
   "metadata": {
    "collapsed": false
   },
   "outputs": [],
   "source": [
    "# Convert index to DatetimeIndex type\n",
    "datetimes = pd.date_range(str(20150301), str(20150830), freq='D')\n",
    "\n",
    "# artist_daily_play.index = datetimes\n",
    "# artist_daily_download.index = datetimes\n",
    "# artist_daily_collect.index = datetimes\n",
    "\n",
    "# Set index name to Ds\n",
    "# artist_daily_play.set_index('Ds', inplace=True)\n",
    "# artist_daily_download.set_index('Ds', inplace=True)\n",
    "# artist_daily_collect.set_index('Ds', inplace=True)"
   ]
  },
  {
   "cell_type": "code",
   "execution_count": 7,
   "metadata": {
    "collapsed": false
   },
   "outputs": [],
   "source": [
    "# Get specific artist. Here we show the third artist for example.\n",
    "artist = artists[2] \n",
    "\n",
    "# Get artist's daily information\n",
    "x = datetimes\n",
    "y1 = artist_daily_play.loc[:, artist].tolist()\n",
    "y2 = artist_daily_download.loc[:, artist].tolist()\n",
    "y3 = artist_daily_collect.loc[:, artist].tolist()\n",
    "\n",
    "# Plot daily information\n",
    "fig = plt.figure()  \n",
    "plt.title(artist)\n",
    "plt.plot(x, y1, 'r')\n",
    "plt.plot(x, y2, 'b')\n",
    "plt.plot(x, y3, 'g')\n",
    "fig.autofmt_xdate()"
   ]
  },
  {
   "cell_type": "code",
   "execution_count": 8,
   "metadata": {
    "collapsed": false
   },
   "outputs": [],
   "source": [
    "# Time Series Decomposition\n",
    "res = sm.tsa.seasonal_decompose(y1, freq = 7)\n",
    "res.plot()\n",
    "plt.show()"
   ]
  },
  {
   "cell_type": "code",
   "execution_count": 9,
   "metadata": {
    "collapsed": false
   },
   "outputs": [
    {
     "data": {
      "text/plain": [
       "0"
      ]
     },
     "execution_count": 9,
     "metadata": {},
     "output_type": "execute_result"
    }
   ],
   "source": [
    "# you can find more info from the website \"http://www.xiami.com/search/album?key=\" once you have doubt about the singer's identity.\n",
    "# with the album published time and songs num, you can confirm you suspect\n",
    "# Find artist by publish_time\n",
    "\n",
    "song_info_withinrange = song_info[(song_info['publish_time'] == 20091027)]\n",
    "song_info_withinrange\n",
    "len(song_info_withinrange)"
   ]
  },
  {
   "cell_type": "code",
   "execution_count": 10,
   "metadata": {
    "collapsed": false
   },
   "outputs": [],
   "source": [
    "# get song's info from a fixed singer\n",
    "# Get the specific artist's song_info\n",
    "\n",
    "artist = artists[29]\n",
    "song_info_withinrange = song_info[(song_info['artist_id'] == artist)]\n",
    "#song_info_withinrange = song_info_withinrange[(song_info_withinrange['publish_time'] ==  20100329)]\n",
    "#song_info_withinrange\n",
    "#len(song_info_withinrange) \n"
   ]
  },
  {
   "cell_type": "code",
   "execution_count": 11,
   "metadata": {
    "collapsed": false
   },
   "outputs": [
    {
     "name": "stdout",
     "output_type": "stream",
     "text": [
      "20090606\n",
      "31\n",
      "20150810\n",
      "12\n",
      "20101027\n",
      "14\n",
      "20160207\n",
      "3\n",
      "20140618\n",
      "17\n",
      "20121120\n",
      "16\n"
     ]
    }
   ],
   "source": [
    "# get published time and songs' num from a fixed singer \n",
    "\n",
    "artist = artists[29]\n",
    "song_info_withinrange = song_info[(song_info['artist_id'] == artist)]\n",
    "\n",
    "ptime = song_info_withinrange.publish_time.unique()\n",
    "for j in range(len(ptime)):\n",
    "    print ptime[j]\n",
    "    print len(song_info_withinrange[(song_info_withinrange['publish_time'] == ptime[j])])"
   ]
  },
  {
   "cell_type": "code",
   "execution_count": 12,
   "metadata": {
    "collapsed": false
   },
   "outputs": [
    {
     "name": "stdout",
     "output_type": "stream",
     "text": [
      "17\n"
     ]
    }
   ],
   "source": [
    "# find artist number\n",
    "for i in range(len(artists)):\n",
    "    if artists[i] == '6bb4c3bbdb6f5a96d643320c6b6005f5':\n",
    "        print i"
   ]
  },
  {
   "cell_type": "code",
   "execution_count": 13,
   "metadata": {
    "collapsed": false
   },
   "outputs": [
    {
     "name": "stdout",
     "output_type": "stream",
     "text": [
      "97546d961462a65d2518e4f63660bd09\n",
      "artist_id: 50\n",
      "lan_id: 1 lan_len: 71\n",
      "\n",
      "67ed1f7f1374e64a93bfca4b44f66dd6\n",
      "artist_id: 82\n",
      "lan_id: 100 lan_len: 108\n",
      "lan_id: 1 lan_len: 402\n",
      "lan_id: 4 lan_len: 31\n",
      "\n"
     ]
    }
   ],
   "source": [
    "# use some specific assumptions to  narrow the singers, e.g., the singer are Chinese singers, or narrow the album publised time\n",
    "\n",
    "song_info_withinrange = song_info[(song_info['gender'] == 3) & (song_info['lang'] == 1)]\n",
    "\n",
    "artist3 = song_info_withinrange.artist_id.unique()\n",
    "for i in range(len(artist3)):\n",
    "    print artist3[i]\n",
    "    print 'artist_id:',\n",
    "    for j in range(len(artists)):\n",
    "        if artists[j] == artist3[i]:\n",
    "            print j\n",
    "    song_artist_specific = song_info[(song_info['artist_id'] == artist3[i])]\n",
    "    \n",
    "    lan = song_artist_specific.lang.unique()\n",
    "    for k in range(len(lan)):\n",
    "        print 'lan_id:',\n",
    "        print lan[k],\n",
    "        print 'lan_len:',\n",
    "        print len(song_artist_specific[(song_artist_specific['lang'] == lan[k])])\n",
    "    \n",
    "    print ''\n",
    "                             "
   ]
  },
  {
   "cell_type": "code",
   "execution_count": 23,
   "metadata": {
    "collapsed": false
   },
   "outputs": [],
   "source": [
    "# Singer have been assured，step two\n",
    "# Combine daily news and observed value together\n",
    "\n",
    "# Artist 7:甲壳虫乐队;17:叶倩文;37:周华健;82:SHE; （Attention: follow the same sequence in spider script）\n",
    "artist_index = [7,17,37,82]\n",
    "artist_index_choose = 0\n",
    "artist = artists[artist_index[artist_index_choose]]\n",
    "\n",
    "# Get artist's daily information\n",
    "x = datetimes\n",
    "y1 = artist_daily_play.loc[:, artist].tolist()\n",
    "y2 = artist_daily_download.loc[:, artist].tolist()\n",
    "y3 = artist_daily_collect.loc[:, artist].tolist()\n",
    "\n",
    "fig.autofmt_xdate()\n",
    "\n",
    "# Time Series Decomposition\n",
    "res = sm.tsa.seasonal_decompose(y1, freq = 7)\n",
    "#res.plot()\n",
    "\n",
    "fig = plt.figure()  \n",
    "plt.title(artist)\n",
    "artist_trend = res.trend.tolist()\n",
    "artist_observed = res.observed.tolist()\n",
    "artist_seasonal = res.seasonal.tolist()\n",
    "\n",
    "plt.plot(x,artist_observed,'r')\n",
    "plt.plot(x,artist_trend,'b')\n",
    "\n",
    "artist_withinrange = song_info_withinrange[(song_info_withinrange['artist_id'] == artist)]\n",
    "song_publishtime_withinrange = artist_withinrange.publish_time.unique()\n",
    "if (len(song_publishtime_withinrange)<>0):\n",
    "    for i in range(len(song_publishtime_withinrange)):\n",
    "        date_specific = str(song_publishtime_withinrange[i])\n",
    "        plt.axvline(x[x.get_loc(date_specific)],linestyle = '--' )\n",
    "\n",
    "# Show the news info and observed value\n",
    "news_daily_record = pd.read_csv('artist_day_news.txt',header=None);\n",
    "for i in range(0+244*artist_index_choose,183+244*artist_index_choose,1):#range(len(news_daily_record)):\n",
    "    #print i\n",
    "    if news_daily_record[2][i] >= 1: # represent more than one news \n",
    "        specific_day = news_daily_record[1][i]\n",
    "        plt.axvline(x[x.get_loc(str(specific_day))],linestyle = '--',color = 'g')\n",
    "\n",
    "plt.show()\n",
    "\n",
    "# Save figure\n",
    "#plt.savefig('d:\\\\test.png')\n",
    "plt.close()"
   ]
  },
  {
   "cell_type": "code",
   "execution_count": 15,
   "metadata": {
    "collapsed": false
   },
   "outputs": [
    {
     "name": "stdout",
     "output_type": "stream",
     "text": [
      "20090924\n",
      "12\n",
      "20100101\n",
      "12\n",
      "20080407\n",
      "11\n",
      "20100407\n",
      "9\n",
      "20100425\n",
      "15\n",
      "20091201\n",
      "11\n",
      "20120915\n",
      "11\n",
      "20100430\n",
      "12\n",
      "20140426\n",
      "11\n",
      "20090101\n",
      "13\n",
      "20110101\n",
      "13\n",
      "20120802\n",
      "11\n"
     ]
    }
   ],
   "source": [
    "# Sort by publish_time\n",
    "artist = artists[68]\n",
    "song_info_withinrange = song_info[(song_info['artist_id'] == artist)]\n",
    "\n",
    "ptime = song_info_withinrange.publish_time.unique()\n",
    "for j in range(len(ptime)):\n",
    "    print ptime[j]\n",
    "    print len(song_info_withinrange[(song_info_withinrange['publish_time'] == ptime[j])])"
   ]
  },
  {
   "cell_type": "code",
   "execution_count": 16,
   "metadata": {
    "collapsed": false
   },
   "outputs": [],
   "source": [
    "# Get specific artist. Here we show the third artist for example.\n",
    "\n",
    "# Record of song_info which publish in 20150301-20150831\n",
    "song_info_withinrange = song_info[(song_info['publish_time'] >= 20150301)& (song_info['publish_time'] <= 20150831)]\n",
    "\n",
    "artist = artists[68] \n",
    "\n",
    "# Get artist's daily information\n",
    "x = datetimes\n",
    "y1 = artist_daily_play.loc[:, artist].tolist()\n",
    "y2 = artist_daily_download.loc[:, artist].tolist()\n",
    "y3 = artist_daily_collect.loc[:, artist].tolist()\n",
    "\n",
    "# Plot daily information\n",
    "fig = plt.figure()  \n",
    "#plt.title(artist)\n",
    "#plt.plot(x, y1, 'r')\n",
    "#plt.plot(x, y2, 'b')\n",
    "#plt.plot(x, y3, 'g')\n",
    "\n",
    "# Display the song publish time ,if have\n",
    "#artist_withinrange = song_info_withinrange[(song_info_withinrange['artist_id'] == artist)]\n",
    "#song_publishtime_withinrange = artist_withinrange.publish_time.unique()\n",
    "#if (len(song_publishtime_withinrange)<>0):\n",
    "#    for i in range(len(song_publishtime_withinrange)):\n",
    "#        date_specific = str(song_publishtime_withinrange[i])\n",
    "#        plt.axvline(x[x.get_loc(date_specific)],linestyle = '--' )\n",
    "\n",
    "fig.autofmt_xdate()\n",
    "\n",
    "# Time Series Decomposition\n",
    "res = sm.tsa.seasonal_decompose(y1, freq = 7)\n",
    "#res.plot()\n",
    "\n",
    "fig = plt.figure()  \n",
    "plt.title(artist)\n",
    "artist_trend = res.trend.tolist()\n",
    "artist_observed = res.observed.tolist()\n",
    "artist_seasonal = res.seasonal.tolist()\n",
    "\n",
    "plt.plot(x,artist_observed,'r')\n",
    "plt.plot(x,artist_trend,'b')\n",
    "\n",
    "artist_withinrange = song_info_withinrange[(song_info_withinrange['artist_id'] == artist)]\n",
    "song_publishtime_withinrange = artist_withinrange.publish_time.unique()\n",
    "if (len(song_publishtime_withinrange)<>0):\n",
    "    for i in range(len(song_publishtime_withinrange)):\n",
    "        date_specific = str(song_publishtime_withinrange[i])\n",
    "        plt.axvline(x[x.get_loc(date_specific)],linestyle = '--' )\n",
    "\n",
    "plt.show()\n",
    "\n",
    "# Save figure\n",
    "#plt.savefig('d:\\\\test.png')\n",
    "plt.close()"
   ]
  },
  {
   "cell_type": "code",
   "execution_count": 16,
   "metadata": {
    "collapsed": true
   },
   "outputs": [],
   "source": [
    "# Display the trend and observed value which include the song publish time\n",
    "\n",
    "# Save the image of each artist.\n",
    "for i in range(len(artists)):\n",
    "    artist = artists[i] \n",
    "    # Get artist's daily information\n",
    "    x = datetimes\n",
    "    y1 = artist_daily_play.loc[:, artist].tolist()\n",
    "    y2 = artist_daily_download.loc[:, artist].tolist()\n",
    "    y3 = artist_daily_collect.loc[:, artist].tolist()\n",
    "    \n",
    "    # Time Series Decomposition\n",
    "    res = sm.tsa.seasonal_decompose(y1, freq = 30)\n",
    "    #res.plot()\n",
    "\n",
    "\n",
    "    artist_trend = res.trend.tolist()\n",
    "    artist_observed = res.observed.tolist()\n",
    "    artist_seasonal = res.seasonal.tolist()\n",
    "\n",
    "    # Plot daily information\n",
    "    fig = plt.figure()  \n",
    "    plt.title(artist)\n",
    "    fig.autofmt_xdate()\n",
    "    plt.plot(x,artist_observed,'r')\n",
    "    plt.plot(x,artist_trend,'b')\n",
    "\n",
    "    artist_withinrange = song_info_withinrange[(song_info_withinrange['artist_id'] == artist)]\n",
    "    song_publishtime_withinrange = artist_withinrange.publish_time.unique()\n",
    "    if (len(song_publishtime_withinrange)<>0):\n",
    "        for j in range(len(song_publishtime_withinrange)):\n",
    "            date_specific = str(song_publishtime_withinrange[j])\n",
    "            plt.axvline(x[x.get_loc(date_specific)],linestyle = '--' )\n",
    "\n",
    "    #plt.show()\n",
    "    \n",
    "    \n",
    "    # Save figure\n",
    "    plt.savefig('d:\\\\%d.png'%i)\n",
    "    plt.close()"
   ]
  },
  {
   "cell_type": "code",
   "execution_count": 15,
   "metadata": {
    "collapsed": false
   },
   "outputs": [],
   "source": [
    "# Save the image of each artist decomposition for month and week.\n",
    "for i in range(len(artists)):\n",
    "    artist = artists[i] \n",
    "    # Get artist's daily information\n",
    "    x = datetimes\n",
    "    y1 = artist_daily_play.loc[:, artist].tolist()\n",
    "    y2 = artist_daily_download.loc[:, artist].tolist()\n",
    "    y3 = artist_daily_collect.loc[:, artist].tolist()\n",
    "\n",
    "    # Plot daily information\n",
    "    fig = plt.figure()  \n",
    "    plt.title(artist)\n",
    "    plt.plot(x, y1, 'r')\n",
    "    plt.plot(x, y2, 'b')\n",
    "    plt.plot(x, y3, 'g')\n",
    "    fig.autofmt_xdate()\n",
    "    \n",
    "    # Display the song publish time ,if have\n",
    "    artist_withinrange = song_info_withinrange[(song_info_withinrange['artist_id'] == artist)]\n",
    "    song_publishtime_withinrange = artist_withinrange.publish_time.unique()\n",
    "    if (len(song_publishtime_withinrange)<>0):\n",
    "        for j in range(len(song_publishtime_withinrange)):\n",
    "            data_specific = str(song_publishtime_withinrange[j])\n",
    "            plt.axvline(x[x.get_loc(date_specific)],linestyle = '--',label = data_specific )\n",
    "\n",
    "    # Time Series Decomposition\n",
    "    #res = sm.tsa.seasonal_decompose(y1, freq = 7)\n",
    "    #res.plot()\n",
    "    #plt.show()\n",
    "    \n",
    "    # Save figure\n",
    "    plt.savefig('d:\\\\%d.png'%i)\n",
    "    plt.close()"
   ]
  }
 ],
 "metadata": {
  "kernelspec": {
   "display_name": "Python 2",
   "language": "python",
   "name": "python2"
  },
  "language_info": {
   "codemirror_mode": {
    "name": "ipython",
    "version": 2
   },
   "file_extension": ".py",
   "mimetype": "text/x-python",
   "name": "python",
   "nbconvert_exporter": "python",
   "pygments_lexer": "ipython2",
   "version": "2.7.11"
  }
 },
 "nbformat": 4,
 "nbformat_minor": 0
}
