{
 "cells": [
  {
   "cell_type": "code",
   "execution_count": 1,
   "metadata": {
    "collapsed": false
   },
   "outputs": [],
   "source": [
    "# prepare workspace\n",
    "import itertools\n",
    "import json\n",
    "import pandas as pd\n",
    "import numpy as np\n",
    "import random\n",
    "from sklearn.manifold import TSNE\n",
    "import matplotlib\n",
    "matplotlib.use('Agg')\n",
    "import matplotlib.pyplot as plt\n",
    "\n",
    "# fix seed for repeatable experiments\n",
    "np.random.seed(1)"
   ]
  },
  {
   "cell_type": "code",
   "execution_count": 2,
   "metadata": {
    "collapsed": true
   },
   "outputs": [],
   "source": [
    "# parameters\n",
    "# python doesn't seem to have a simple way to create C-like struct\n",
    "class Args:\n",
    "    pass\n",
    "args = Args()\n",
    "args.input_json = 'data/song_map.json'\n",
    "args.input_txt = 'data/song_vectors.txt'\n",
    "args.input_csv = 'data/mars_tianchi_songs.csv'\n",
    "\n",
    "args.num_plot = 1500\n",
    "args.label_type = 'gender' # possible values include: artist_id, publish_time, song_init_plays, lang, gender"
   ]
  },
  {
   "cell_type": "code",
   "execution_count": 3,
   "metadata": {
    "collapsed": true
   },
   "outputs": [],
   "source": [
    "# read JSON idx_to_song map\n",
    "with open(args.input_json) as f:\n",
    "    song_map = json.load(f)\n",
    "idx_to_song = song_map['idx_to_song']"
   ]
  },
  {
   "cell_type": "code",
   "execution_count": 4,
   "metadata": {
    "collapsed": false
   },
   "outputs": [],
   "source": [
    "# read song csv file\n",
    "info_songs = pd.read_csv(args.input_csv,\n",
    "                        names = ['song_id', 'artist_id', 'publish_time', 'song_init_plays', 'lang', 'gender'])\n",
    "info_songs.set_index('song_id', inplace=True)"
   ]
  },
  {
   "cell_type": "code",
   "execution_count": 5,
   "metadata": {
    "collapsed": false
   },
   "outputs": [],
   "source": [
    "# read txt file which contains song embedding vectors and store them in a numpy matrix\n",
    "# there is nice function genfromtxt from numpy to do just this\n",
    "# note that we skip both the header and the first song embedding \"</s>\" which is added by default\n",
    "song_embeddings = np.genfromtxt(args.input_txt, skip_header=2, delimiter=' ')\n",
    "\n",
    "songs = song_embeddings[:, 0].astype(np.int32)\n",
    "embeddings = song_embeddings[:, 1:]"
   ]
  },
  {
   "cell_type": "code",
   "execution_count": 6,
   "metadata": {
    "collapsed": false
   },
   "outputs": [],
   "source": [
    "# random sample songs to display\n",
    "num_songs = songs.shape[0]\n",
    "\n",
    "plot_only = np.random.choice(xrange(num_songs), args.num_plot, replace=False)\n",
    "song_ids = [idx_to_song[str(idx)] for idx in songs[plot_only]]\n",
    "\n",
    "# Define TSNE\n",
    "tsne = TSNE(perplexity=30, n_components=2, init='pca', n_iter=5000)"
   ]
  },
  {
   "cell_type": "code",
   "execution_count": 7,
   "metadata": {
    "collapsed": true
   },
   "outputs": [],
   "source": [
    "# convert song_id to labels like artist, gender, language etc\n",
    "labels = info_songs.loc[song_ids, args.label_type].as_matrix()\n",
    "\n",
    "# transform embeddings to even lower dimension \n",
    "low_dim_embs = tsne.fit_transform(embeddings[plot_only, :])"
   ]
  },
  {
   "cell_type": "code",
   "execution_count": 8,
   "metadata": {
    "collapsed": false
   },
   "outputs": [],
   "source": [
    "# Visualize\n",
    "def plot_with_labels(low_dim_embs, labels, filename='tsne.pdf'):\n",
    "  assert low_dim_embs.shape[0] >= len(labels), \"More labels than embeddings\"\n",
    "  fig = plt.figure()  \n",
    "  for i, label in enumerate(labels):\n",
    "    x, y = low_dim_embs[i,:]\n",
    "    plt.scatter(x, y)\n",
    "    plt.annotate(label,\n",
    "                 xy=(x, y),\n",
    "                 xytext=(5, 2),\n",
    "                 textcoords='offset points',\n",
    "                 ha='right',\n",
    "                 va='bottom')\n",
    "  fig.savefig(filename)\n",
    "\n",
    "def plot_with_labels_using_color(low_dim_embs, labels, filename='tsne_color.pdf'):\n",
    "  assert low_dim_embs.shape[0] >= len(labels), \"More labels than embeddings\"\n",
    "  fig = plt.figure()  \n",
    "  unique_class = np.unique(labels)\n",
    "  marker_generator = itertools.cycle('o<.^s')\n",
    "  for class_ in unique_class:\n",
    "        idx = np.equal(labels, class_)\n",
    "        x = low_dim_embs[idx, 0]\n",
    "        y = low_dim_embs[idx, 1]\n",
    "        \n",
    "        # plot scatter of x,y use random color\n",
    "        plt.scatter(x, y, color=np.random.rand(3,), marker=marker_generator.next())\n",
    "  fig.savefig(filename)\n",
    "\n",
    "# plot_with_labels(low_dim_embs, labels)\n",
    "plot_with_labels_using_color(low_dim_embs, labels, filename='tsne_color_' + args.label_type + '_' + str(args.num_plot) + '.pdf')"
   ]
  }
 ],
 "metadata": {
  "anaconda-cloud": {},
  "kernelspec": {
   "display_name": "Python [default]",
   "language": "python",
   "name": "python2"
  },
  "language_info": {
   "codemirror_mode": {
    "name": "ipython",
    "version": 2
   },
   "file_extension": ".py",
   "mimetype": "text/x-python",
   "name": "python",
   "nbconvert_exporter": "python",
   "pygments_lexer": "ipython2",
   "version": "2.7.12"
  }
 },
 "nbformat": 4,
 "nbformat_minor": 0
}
